{
 "cells": [
  {
   "cell_type": "markdown",
   "metadata": {
    "slideshow": {
     "slide_type": "slide"
    }
   },
   "source": [
    "# SQLAlchemy, Sqlite, and Dates"
   ]
  },
  {
   "cell_type": "markdown",
   "metadata": {
    "slideshow": {
     "slide_type": "slide"
    }
   },
   "source": [
    "## Setup"
   ]
  },
  {
   "cell_type": "code",
   "execution_count": 1,
   "metadata": {
    "collapsed": true,
    "jupyter": {
     "outputs_hidden": true
    }
   },
   "outputs": [],
   "source": [
    "import matplotlib\n",
    "from matplotlib import style\n",
    "style.use('fivethirtyeight')\n",
    "import matplotlib.pyplot as plt"
   ]
  },
  {
   "cell_type": "code",
   "execution_count": 2,
   "metadata": {
    "collapsed": true,
    "jupyter": {
     "outputs_hidden": true
    }
   },
   "outputs": [],
   "source": [
    "import pandas as pd"
   ]
  },
  {
   "cell_type": "code",
   "execution_count": 3,
   "metadata": {
    "collapsed": true,
    "jupyter": {
     "outputs_hidden": true
    },
    "slideshow": {
     "slide_type": "subslide"
    }
   },
   "outputs": [],
   "source": [
    "# Python SQL toolkit and Object Relational Mapper\n",
    "import sqlalchemy\n",
    "from sqlalchemy.ext.automap import automap_base\n",
    "from sqlalchemy.orm import Session\n",
    "from sqlalchemy import create_engine, inspect, func"
   ]
  },
  {
   "cell_type": "code",
   "execution_count": 4,
   "metadata": {
    "collapsed": true,
    "jupyter": {
     "outputs_hidden": true
    },
    "slideshow": {
     "slide_type": "subslide"
    }
   },
   "outputs": [],
   "source": [
    "engine = create_engine(\"sqlite:///../Resources/dow.sqlite\", echo=False)"
   ]
  },
  {
   "cell_type": "code",
   "execution_count": 5,
   "metadata": {
    "slideshow": {
     "slide_type": "subslide"
    }
   },
   "outputs": [
    {
     "data": {
      "text/plain": [
       "[(1, 1, 'AA', '2011-01-07', 15.82, 16.72, 15.78, 16.42, 239655616, None),\n",
       " (2, 1, 'AA', '2011-01-14', 16.71, 16.71, 15.64, 15.97, 242963398, None),\n",
       " (3, 1, 'AA', '2011-01-21', 16.19, 16.38, 15.6, 15.79, 138428495, None),\n",
       " (4, 1, 'AA', '2011-01-28', 15.87, 16.63, 15.82, 16.13, 151379173, None),\n",
       " (5, 1, 'AA', '2011-02-04', 16.18, 17.39, 16.18, 17.14, 154387761, None)]"
      ]
     },
     "execution_count": 5,
     "metadata": {},
     "output_type": "execute_result"
    }
   ],
   "source": [
    "engine.execute('SELECT * FROM dow LIMIT 5').fetchall()"
   ]
  },
  {
   "cell_type": "code",
   "execution_count": 6,
   "metadata": {},
   "outputs": [
    {
     "name": "stdout",
     "output_type": "stream",
     "text": [
      "id INTEGER\n",
      "quarter INTEGER\n",
      "stock TEXT\n",
      "date TEXT\n",
      "open_price FLOAT\n",
      "high_price FLOAT\n",
      "low_price FLOAT\n",
      "close_price FLOAT\n",
      "volume INTEGER\n",
      "percent_change FLOAT\n"
     ]
    }
   ],
   "source": [
    "inspector = inspect(engine)\n",
    "columns = inspector.get_columns('dow')\n",
    "for c in columns:\n",
    "    print(c['name'], c[\"type\"])"
   ]
  },
  {
   "cell_type": "markdown",
   "metadata": {
    "slideshow": {
     "slide_type": "slide"
    }
   },
   "source": [
    "## Reflect and query dates"
   ]
  },
  {
   "cell_type": "code",
   "execution_count": 7,
   "metadata": {
    "collapsed": true,
    "jupyter": {
     "outputs_hidden": true
    },
    "slideshow": {
     "slide_type": "subslide"
    }
   },
   "outputs": [],
   "source": [
    "# Reflect Database into ORM class\n",
    "Base = automap_base()\n",
    "Base.prepare(engine, reflect=True)\n",
    "Dow = Base.classes.dow"
   ]
  },
  {
   "cell_type": "code",
   "execution_count": 8,
   "metadata": {
    "collapsed": true,
    "jupyter": {
     "outputs_hidden": true
    },
    "slideshow": {
     "slide_type": "fragment"
    }
   },
   "outputs": [],
   "source": [
    "session = Session(engine)"
   ]
  },
  {
   "cell_type": "markdown",
   "metadata": {
    "slideshow": {
     "slide_type": "subslide"
    }
   },
   "source": [
    "## Analysis"
   ]
  },
  {
   "cell_type": "markdown",
   "metadata": {},
   "source": [
    "Analyze the Average prices (open, high, low, close) for all stocks in the Month of May"
   ]
  },
  {
   "cell_type": "code",
   "execution_count": 21,
   "metadata": {
    "collapsed": true,
    "deletable": false,
    "jupyter": {
     "outputs_hidden": true
    },
    "nbgrader": {
     "checksum": "c06b2d6ed8b59a597a6f87d27bd5fe6f",
     "grade": false,
     "grade_id": "cell-a5033f5b305f26d6",
     "locked": false,
     "schema_version": 1,
     "solution": true
    }
   },
   "outputs": [],
   "source": [
    "# Query for the stock and average prices (open, high, low, close) \n",
    "# for all stock in the month of May\n",
    "# Sort the result by stock name\n",
    "\n",
    "sel = [Dow.stock, \n",
    "       func.avg(Dow.open_price), \n",
    "       func.avg(Dow.high_price), \n",
    "       func.avg(Dow.low_price), \n",
    "       func.avg(Dow.close_price)]\n",
    "\n",
    "# YOUR CODE HERE\n",
    "# session.query(Dow.stock, Dow.open_price, Dow.high_price, Dow.low_price, Dow.close_price).filter(func.strftime(\"%m\", Dow.date) == \"05\").order_by(Dow.stock).all()\n",
    "\n",
    "results = session.query(Dow.stock, func.avg(Dow.open_price), func.avg(Dow.high_price), func.avg(Dow.low_price), func.avg(Dow.close_price)).filter(func.strftime(\"%m\", Dow.date) == \"05\").group_by(Dow.stock).order_by(Dow.stock).all()"
   ]
  },
  {
   "cell_type": "code",
   "execution_count": 28,
   "metadata": {
    "collapsed": true,
    "deletable": false,
    "jupyter": {
     "outputs_hidden": true
    },
    "nbgrader": {
     "checksum": "25b82936c5b5ba4f75cbf3baf547bcb8",
     "grade": false,
     "grade_id": "cell-8f14868d3f8f3f50",
     "locked": false,
     "schema_version": 1,
     "solution": true
    }
   },
   "outputs": [
    {
     "data": {
      "text/html": [
       "<div>\n",
       "<style scoped>\n",
       "    .dataframe tbody tr th:only-of-type {\n",
       "        vertical-align: middle;\n",
       "    }\n",
       "\n",
       "    .dataframe tbody tr th {\n",
       "        vertical-align: top;\n",
       "    }\n",
       "\n",
       "    .dataframe thead th {\n",
       "        text-align: right;\n",
       "    }\n",
       "</style>\n",
       "<table border=\"1\" class=\"dataframe\">\n",
       "  <thead>\n",
       "    <tr style=\"text-align: right;\">\n",
       "      <th></th>\n",
       "      <th>open_avg</th>\n",
       "      <th>high_avg</th>\n",
       "      <th>low_avg</th>\n",
       "      <th>close_avg</th>\n",
       "    </tr>\n",
       "    <tr>\n",
       "      <th>stock</th>\n",
       "      <th></th>\n",
       "      <th></th>\n",
       "      <th></th>\n",
       "      <th></th>\n",
       "    </tr>\n",
       "  </thead>\n",
       "  <tbody>\n",
       "    <tr>\n",
       "      <th>AA</th>\n",
       "      <td>16.8475</td>\n",
       "      <td>17.3375</td>\n",
       "      <td>16.4175</td>\n",
       "      <td>16.7475</td>\n",
       "    </tr>\n",
       "    <tr>\n",
       "      <th>AXP</th>\n",
       "      <td>49.8975</td>\n",
       "      <td>51.0700</td>\n",
       "      <td>49.3150</td>\n",
       "      <td>50.5025</td>\n",
       "    </tr>\n",
       "    <tr>\n",
       "      <th>BA</th>\n",
       "      <td>78.7175</td>\n",
       "      <td>79.2175</td>\n",
       "      <td>76.8825</td>\n",
       "      <td>78.2125</td>\n",
       "    </tr>\n",
       "    <tr>\n",
       "      <th>BAC</th>\n",
       "      <td>12.0000</td>\n",
       "      <td>12.2350</td>\n",
       "      <td>11.7325</td>\n",
       "      <td>11.8775</td>\n",
       "    </tr>\n",
       "    <tr>\n",
       "      <th>CAT</th>\n",
       "      <td>108.5525</td>\n",
       "      <td>110.5975</td>\n",
       "      <td>104.0450</td>\n",
       "      <td>106.4000</td>\n",
       "    </tr>\n",
       "    <tr>\n",
       "      <th>CSCO</th>\n",
       "      <td>17.0675</td>\n",
       "      <td>17.2550</td>\n",
       "      <td>16.5925</td>\n",
       "      <td>16.8575</td>\n",
       "    </tr>\n",
       "    <tr>\n",
       "      <th>CVX</th>\n",
       "      <td>103.9725</td>\n",
       "      <td>105.7275</td>\n",
       "      <td>100.4575</td>\n",
       "      <td>102.7625</td>\n",
       "    </tr>\n",
       "    <tr>\n",
       "      <th>DD</th>\n",
       "      <td>53.9625</td>\n",
       "      <td>54.9225</td>\n",
       "      <td>52.1400</td>\n",
       "      <td>53.2100</td>\n",
       "    </tr>\n",
       "    <tr>\n",
       "      <th>DIS</th>\n",
       "      <td>42.3000</td>\n",
       "      <td>42.8175</td>\n",
       "      <td>41.1175</td>\n",
       "      <td>41.9000</td>\n",
       "    </tr>\n",
       "    <tr>\n",
       "      <th>GE</th>\n",
       "      <td>19.9600</td>\n",
       "      <td>20.1750</td>\n",
       "      <td>19.4875</td>\n",
       "      <td>19.7400</td>\n",
       "    </tr>\n",
       "    <tr>\n",
       "      <th>HD</th>\n",
       "      <td>36.7650</td>\n",
       "      <td>37.5100</td>\n",
       "      <td>36.5050</td>\n",
       "      <td>36.7625</td>\n",
       "    </tr>\n",
       "    <tr>\n",
       "      <th>HPQ</th>\n",
       "      <td>39.3150</td>\n",
       "      <td>40.1400</td>\n",
       "      <td>37.8425</td>\n",
       "      <td>38.5400</td>\n",
       "    </tr>\n",
       "    <tr>\n",
       "      <th>IBM</th>\n",
       "      <td>169.7025</td>\n",
       "      <td>171.5800</td>\n",
       "      <td>166.9375</td>\n",
       "      <td>169.1175</td>\n",
       "    </tr>\n",
       "    <tr>\n",
       "      <th>INTC</th>\n",
       "      <td>23.0975</td>\n",
       "      <td>23.6700</td>\n",
       "      <td>22.6525</td>\n",
       "      <td>23.0225</td>\n",
       "    </tr>\n",
       "    <tr>\n",
       "      <th>JNJ</th>\n",
       "      <td>65.6575</td>\n",
       "      <td>66.8475</td>\n",
       "      <td>65.0575</td>\n",
       "      <td>66.0875</td>\n",
       "    </tr>\n",
       "    <tr>\n",
       "      <th>JPM</th>\n",
       "      <td>44.0150</td>\n",
       "      <td>44.7100</td>\n",
       "      <td>43.0200</td>\n",
       "      <td>43.5275</td>\n",
       "    </tr>\n",
       "    <tr>\n",
       "      <th>KO</th>\n",
       "      <td>67.5775</td>\n",
       "      <td>68.3250</td>\n",
       "      <td>66.7575</td>\n",
       "      <td>67.4725</td>\n",
       "    </tr>\n",
       "    <tr>\n",
       "      <th>KRFT</th>\n",
       "      <td>34.3050</td>\n",
       "      <td>35.0225</td>\n",
       "      <td>33.9450</td>\n",
       "      <td>34.7375</td>\n",
       "    </tr>\n",
       "    <tr>\n",
       "      <th>MCD</th>\n",
       "      <td>79.9575</td>\n",
       "      <td>81.5525</td>\n",
       "      <td>79.8025</td>\n",
       "      <td>80.8475</td>\n",
       "    </tr>\n",
       "    <tr>\n",
       "      <th>MMM</th>\n",
       "      <td>95.1775</td>\n",
       "      <td>96.2075</td>\n",
       "      <td>93.2425</td>\n",
       "      <td>94.6600</td>\n",
       "    </tr>\n",
       "    <tr>\n",
       "      <th>MRK</th>\n",
       "      <td>36.5700</td>\n",
       "      <td>37.1850</td>\n",
       "      <td>36.2100</td>\n",
       "      <td>36.6850</td>\n",
       "    </tr>\n",
       "    <tr>\n",
       "      <th>MSFT</th>\n",
       "      <td>25.2275</td>\n",
       "      <td>25.5775</td>\n",
       "      <td>24.6775</td>\n",
       "      <td>25.0375</td>\n",
       "    </tr>\n",
       "    <tr>\n",
       "      <th>PFE</th>\n",
       "      <td>20.7500</td>\n",
       "      <td>21.1125</td>\n",
       "      <td>20.3875</td>\n",
       "      <td>20.7725</td>\n",
       "    </tr>\n",
       "    <tr>\n",
       "      <th>PG</th>\n",
       "      <td>65.9075</td>\n",
       "      <td>67.1825</td>\n",
       "      <td>65.4925</td>\n",
       "      <td>66.4225</td>\n",
       "    </tr>\n",
       "    <tr>\n",
       "      <th>T</th>\n",
       "      <td>31.2800</td>\n",
       "      <td>31.7000</td>\n",
       "      <td>30.9750</td>\n",
       "      <td>31.3200</td>\n",
       "    </tr>\n",
       "    <tr>\n",
       "      <th>TRV</th>\n",
       "      <td>62.7625</td>\n",
       "      <td>63.3425</td>\n",
       "      <td>61.8800</td>\n",
       "      <td>62.3825</td>\n",
       "    </tr>\n",
       "    <tr>\n",
       "      <th>UTX</th>\n",
       "      <td>88.4450</td>\n",
       "      <td>89.2050</td>\n",
       "      <td>86.5025</td>\n",
       "      <td>88.0050</td>\n",
       "    </tr>\n",
       "    <tr>\n",
       "      <th>VZ</th>\n",
       "      <td>37.4050</td>\n",
       "      <td>37.6125</td>\n",
       "      <td>36.7225</td>\n",
       "      <td>37.0900</td>\n",
       "    </tr>\n",
       "    <tr>\n",
       "      <th>WMT</th>\n",
       "      <td>55.1400</td>\n",
       "      <td>55.9475</td>\n",
       "      <td>54.2375</td>\n",
       "      <td>55.1825</td>\n",
       "    </tr>\n",
       "    <tr>\n",
       "      <th>XOM</th>\n",
       "      <td>82.8875</td>\n",
       "      <td>84.2750</td>\n",
       "      <td>80.1700</td>\n",
       "      <td>81.9400</td>\n",
       "    </tr>\n",
       "  </tbody>\n",
       "</table>\n",
       "</div>"
      ],
      "text/plain": [
       "       open_avg  high_avg   low_avg  close_avg\n",
       "stock                                         \n",
       "AA      16.8475   17.3375   16.4175    16.7475\n",
       "AXP     49.8975   51.0700   49.3150    50.5025\n",
       "BA      78.7175   79.2175   76.8825    78.2125\n",
       "BAC     12.0000   12.2350   11.7325    11.8775\n",
       "CAT    108.5525  110.5975  104.0450   106.4000\n",
       "CSCO    17.0675   17.2550   16.5925    16.8575\n",
       "CVX    103.9725  105.7275  100.4575   102.7625\n",
       "DD      53.9625   54.9225   52.1400    53.2100\n",
       "DIS     42.3000   42.8175   41.1175    41.9000\n",
       "GE      19.9600   20.1750   19.4875    19.7400\n",
       "HD      36.7650   37.5100   36.5050    36.7625\n",
       "HPQ     39.3150   40.1400   37.8425    38.5400\n",
       "IBM    169.7025  171.5800  166.9375   169.1175\n",
       "INTC    23.0975   23.6700   22.6525    23.0225\n",
       "JNJ     65.6575   66.8475   65.0575    66.0875\n",
       "JPM     44.0150   44.7100   43.0200    43.5275\n",
       "KO      67.5775   68.3250   66.7575    67.4725\n",
       "KRFT    34.3050   35.0225   33.9450    34.7375\n",
       "MCD     79.9575   81.5525   79.8025    80.8475\n",
       "MMM     95.1775   96.2075   93.2425    94.6600\n",
       "MRK     36.5700   37.1850   36.2100    36.6850\n",
       "MSFT    25.2275   25.5775   24.6775    25.0375\n",
       "PFE     20.7500   21.1125   20.3875    20.7725\n",
       "PG      65.9075   67.1825   65.4925    66.4225\n",
       "T       31.2800   31.7000   30.9750    31.3200\n",
       "TRV     62.7625   63.3425   61.8800    62.3825\n",
       "UTX     88.4450   89.2050   86.5025    88.0050\n",
       "VZ      37.4050   37.6125   36.7225    37.0900\n",
       "WMT     55.1400   55.9475   54.2375    55.1825\n",
       "XOM     82.8875   84.2750   80.1700    81.9400"
      ]
     },
     "execution_count": 28,
     "metadata": {},
     "output_type": "execute_result"
    }
   ],
   "source": [
    "# Plot the Results in a Matplotlib bar chart\n",
    "df = pd.DataFrame(results, columns=[\"stock\", \"open_avg\", \"high_avg\", \"low_avg\", \"close_avg\"])\n",
    "df.set_index('stock', inplace=True)\n",
    "df"
   ]
  },
  {
   "cell_type": "code",
   "execution_count": 29,
   "metadata": {},
   "outputs": [
    {
     "data": {
      "image/png": "[encoded data removed]",
      "text/plain": [
       "<Figure size 432x288 with 1 Axes>"
      ]
     },
     "metadata": {
      "needs_background": "light"
     },
     "output_type": "display_data"
    }
   ],
   "source": [
    "df.iloc[0::].plot.bar(title=\"avg stock price\")\n",
    "plt.show()"
   ]
  },
  {
   "cell_type": "markdown",
   "metadata": {},
   "source": [
    "### Bonus\n",
    "Calculate the high-low peak-to-peak (PTP) values for `IBM` stock after `2011-05-31`. \n",
    "* Note: high-low PTP is calculated using `high_price` - `low_price`\n",
    "* Use a DateTime.date object in the query filter\n",
    "* Use list comprehension to create a list of dictionaries from the query results\n",
    "* Create a dataframe from the list of dictionaries\n",
    "* Use the `boxplot()` method on the dataframe to plot PTP distribution statistics"
   ]
  },
  {
   "cell_type": "code",
   "execution_count": null,
   "metadata": {
    "collapsed": true,
    "deletable": false,
    "jupyter": {
     "outputs_hidden": true
    },
    "nbgrader": {
     "checksum": "fddb0cccaa58c0f7a6d7193efdb0209b",
     "grade": false,
     "grade_id": "cell-91ca80cc05b37ea7",
     "locked": false,
     "schema_version": 1,
     "solution": true
    },
    "slideshow": {
     "slide_type": "fragment"
    }
   },
   "outputs": [],
   "source": [
    "# Design a query to calculate the PTP for stock `IBM` after May, 2011\n",
    "# YOUR CODE HERE"
   ]
  },
  {
   "cell_type": "code",
   "execution_count": null,
   "metadata": {
    "deletable": false,
    "nbgrader": {
     "checksum": "ef214205bd63979f0aa120accbfe6797",
     "grade": false,
     "grade_id": "cell-d0b673b76e86e46e",
     "locked": false,
     "schema_version": 1,
     "solution": true
    }
   },
   "outputs": [],
   "source": [
    "# Load the list comprehension rows into a dataframe, set the index to the date, and plot the PTPs\n",
    "# YOUR CODE HERE"
   ]
  }
 ],
 "metadata": {
  "kernel_info": {
   "name": "python3"
  },
  "kernelspec": {
   "display_name": "Python 3",
   "language": "python",
   "name": "python3"
  },
  "language_info": {
   "codemirror_mode": {
    "name": "ipython",
    "version": 3
   },
   "file_extension": ".py",
   "mimetype": "text/x-python",
   "name": "python",
   "nbconvert_exporter": "python",
   "pygments_lexer": "ipython3",
   "version": "3.9.7"
  },
  "nteract": {
   "version": "0.2.0"
  },
  "varInspector": {
   "cols": {
    "lenName": 16,
    "lenType": 16,
    "lenVar": 40
   },
   "kernels_config": {
    "python": {
     "delete_cmd_postfix": "",
     "delete_cmd_prefix": "del ",
     "library": "var_list.py",
     "varRefreshCmd": "print(var_dic_list())"
    },
    "r": {
     "delete_cmd_postfix": ") ",
     "delete_cmd_prefix": "rm(",
     "library": "var_list.r",
     "varRefreshCmd": "cat(var_dic_list()) "
    }
   },
   "types_to_exclude": [
    "module",
    "function",
    "builtin_function_or_method",
    "instance",
    "_Feature"
   ],
   "window_display": false
  }
 },
 "nbformat": 4,
 "nbformat_minor": 4
}
